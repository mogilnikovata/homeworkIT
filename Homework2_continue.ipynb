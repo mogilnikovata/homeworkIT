{
 "cells": [
  {
   "cell_type": "code",
   "execution_count": 1,
   "id": "1963fe29",
   "metadata": {},
   "outputs": [],
   "source": [
    "import pandas as pd\n",
    "import numpy as np\n",
    "import matplotlib.pyplot as plt\n",
    "import seaborn as sns\n",
    "%matplotlib inline"
   ]
  },
  {
   "cell_type": "code",
   "execution_count": 2,
   "id": "906025be",
   "metadata": {},
   "outputs": [],
   "source": [
    "df = pd.read_csv('insurance.csv')"
   ]
  },
  {
   "cell_type": "code",
   "execution_count": 3,
   "id": "8a349e57",
   "metadata": {},
   "outputs": [
    {
     "data": {
      "text/html": [
       "<div>\n",
       "<style scoped>\n",
       "    .dataframe tbody tr th:only-of-type {\n",
       "        vertical-align: middle;\n",
       "    }\n",
       "\n",
       "    .dataframe tbody tr th {\n",
       "        vertical-align: top;\n",
       "    }\n",
       "\n",
       "    .dataframe thead th {\n",
       "        text-align: right;\n",
       "    }\n",
       "</style>\n",
       "<table border=\"1\" class=\"dataframe\">\n",
       "  <thead>\n",
       "    <tr style=\"text-align: right;\">\n",
       "      <th></th>\n",
       "      <th>age</th>\n",
       "      <th>sex</th>\n",
       "      <th>bmi</th>\n",
       "      <th>children</th>\n",
       "      <th>smoker</th>\n",
       "      <th>region</th>\n",
       "      <th>charges</th>\n",
       "    </tr>\n",
       "  </thead>\n",
       "  <tbody>\n",
       "    <tr>\n",
       "      <th>0</th>\n",
       "      <td>19</td>\n",
       "      <td>female</td>\n",
       "      <td>27.900</td>\n",
       "      <td>0</td>\n",
       "      <td>yes</td>\n",
       "      <td>southwest</td>\n",
       "      <td>16884.92400</td>\n",
       "    </tr>\n",
       "    <tr>\n",
       "      <th>1</th>\n",
       "      <td>18</td>\n",
       "      <td>male</td>\n",
       "      <td>33.770</td>\n",
       "      <td>1</td>\n",
       "      <td>no</td>\n",
       "      <td>southeast</td>\n",
       "      <td>1725.55230</td>\n",
       "    </tr>\n",
       "    <tr>\n",
       "      <th>2</th>\n",
       "      <td>28</td>\n",
       "      <td>male</td>\n",
       "      <td>33.000</td>\n",
       "      <td>3</td>\n",
       "      <td>no</td>\n",
       "      <td>southeast</td>\n",
       "      <td>4449.46200</td>\n",
       "    </tr>\n",
       "    <tr>\n",
       "      <th>3</th>\n",
       "      <td>33</td>\n",
       "      <td>male</td>\n",
       "      <td>22.705</td>\n",
       "      <td>0</td>\n",
       "      <td>no</td>\n",
       "      <td>northwest</td>\n",
       "      <td>21984.47061</td>\n",
       "    </tr>\n",
       "    <tr>\n",
       "      <th>4</th>\n",
       "      <td>32</td>\n",
       "      <td>male</td>\n",
       "      <td>28.880</td>\n",
       "      <td>0</td>\n",
       "      <td>no</td>\n",
       "      <td>northwest</td>\n",
       "      <td>3866.85520</td>\n",
       "    </tr>\n",
       "    <tr>\n",
       "      <th>...</th>\n",
       "      <td>...</td>\n",
       "      <td>...</td>\n",
       "      <td>...</td>\n",
       "      <td>...</td>\n",
       "      <td>...</td>\n",
       "      <td>...</td>\n",
       "      <td>...</td>\n",
       "    </tr>\n",
       "    <tr>\n",
       "      <th>1333</th>\n",
       "      <td>50</td>\n",
       "      <td>male</td>\n",
       "      <td>30.970</td>\n",
       "      <td>3</td>\n",
       "      <td>no</td>\n",
       "      <td>northwest</td>\n",
       "      <td>10600.54830</td>\n",
       "    </tr>\n",
       "    <tr>\n",
       "      <th>1334</th>\n",
       "      <td>18</td>\n",
       "      <td>female</td>\n",
       "      <td>31.920</td>\n",
       "      <td>0</td>\n",
       "      <td>no</td>\n",
       "      <td>northeast</td>\n",
       "      <td>2205.98080</td>\n",
       "    </tr>\n",
       "    <tr>\n",
       "      <th>1335</th>\n",
       "      <td>18</td>\n",
       "      <td>female</td>\n",
       "      <td>36.850</td>\n",
       "      <td>0</td>\n",
       "      <td>no</td>\n",
       "      <td>southeast</td>\n",
       "      <td>1629.83350</td>\n",
       "    </tr>\n",
       "    <tr>\n",
       "      <th>1336</th>\n",
       "      <td>21</td>\n",
       "      <td>female</td>\n",
       "      <td>25.800</td>\n",
       "      <td>0</td>\n",
       "      <td>no</td>\n",
       "      <td>southwest</td>\n",
       "      <td>2007.94500</td>\n",
       "    </tr>\n",
       "    <tr>\n",
       "      <th>1337</th>\n",
       "      <td>61</td>\n",
       "      <td>female</td>\n",
       "      <td>29.070</td>\n",
       "      <td>0</td>\n",
       "      <td>yes</td>\n",
       "      <td>northwest</td>\n",
       "      <td>29141.36030</td>\n",
       "    </tr>\n",
       "  </tbody>\n",
       "</table>\n",
       "<p>1338 rows × 7 columns</p>\n",
       "</div>"
      ],
      "text/plain": [
       "      age     sex     bmi  children smoker     region      charges\n",
       "0      19  female  27.900         0    yes  southwest  16884.92400\n",
       "1      18    male  33.770         1     no  southeast   1725.55230\n",
       "2      28    male  33.000         3     no  southeast   4449.46200\n",
       "3      33    male  22.705         0     no  northwest  21984.47061\n",
       "4      32    male  28.880         0     no  northwest   3866.85520\n",
       "...   ...     ...     ...       ...    ...        ...          ...\n",
       "1333   50    male  30.970         3     no  northwest  10600.54830\n",
       "1334   18  female  31.920         0     no  northeast   2205.98080\n",
       "1335   18  female  36.850         0     no  southeast   1629.83350\n",
       "1336   21  female  25.800         0     no  southwest   2007.94500\n",
       "1337   61  female  29.070         0    yes  northwest  29141.36030\n",
       "\n",
       "[1338 rows x 7 columns]"
      ]
     },
     "execution_count": 3,
     "metadata": {},
     "output_type": "execute_result"
    }
   ],
   "source": [
    "df"
   ]
  },
  {
   "cell_type": "code",
   "execution_count": 4,
   "id": "aa773338",
   "metadata": {},
   "outputs": [],
   "source": [
    "df.charges = np.log1p(df.charges)"
   ]
  },
  {
   "cell_type": "code",
   "execution_count": 5,
   "id": "eecec3aa",
   "metadata": {},
   "outputs": [],
   "source": [
    "result=[]\n",
    "for value in df['smoker']:\n",
    "        if value==\"yes\":\n",
    "            result.append(1)\n",
    "        else:\n",
    "            result.append(0)\n",
    " \n",
    "df['smoker']=result"
   ]
  },
  {
   "cell_type": "code",
   "execution_count": 6,
   "id": "3ce35d30",
   "metadata": {},
   "outputs": [],
   "source": [
    "res=[]\n",
    "for value in df['bmi']:\n",
    "        if value>30:\n",
    "            res.append(1)\n",
    "        else:\n",
    "            res.append(0)\n",
    " \n",
    "df['bmi']=res"
   ]
  },
  {
   "cell_type": "code",
   "execution_count": 7,
   "id": "af9ffd7b",
   "metadata": {},
   "outputs": [],
   "source": [
    "for example in df['age']:\n",
    "    if (0 <example <21):\n",
    "        example=1\n",
    "    elif (21<example<41):\n",
    "        example=2\n",
    "    elif (41<example<61):\n",
    "        example=3\n",
    "    elif (61<example<81):\n",
    "        example=4\n",
    "    elif (81<example<101):\n",
    "        example=5\n"
   ]
  },
  {
   "cell_type": "code",
   "execution_count": 8,
   "id": "84bceec4",
   "metadata": {},
   "outputs": [
    {
     "data": {
      "text/plain": [
       "['sex', 'region']"
      ]
     },
     "execution_count": 8,
     "metadata": {},
     "output_type": "execute_result"
    }
   ],
   "source": [
    "list(df.dtypes[df.dtypes == object].index)"
   ]
  },
  {
   "cell_type": "code",
   "execution_count": 9,
   "id": "b30db339",
   "metadata": {},
   "outputs": [],
   "source": [
    "\n",
    "numerical = list(df.dtypes[df.dtypes != object].index)"
   ]
  },
  {
   "cell_type": "code",
   "execution_count": 10,
   "id": "81a7af77",
   "metadata": {},
   "outputs": [
    {
     "data": {
      "text/plain": [
       "age         0\n",
       "sex         0\n",
       "bmi         0\n",
       "children    0\n",
       "smoker      0\n",
       "region      0\n",
       "charges     0\n",
       "dtype: int64"
      ]
     },
     "execution_count": 10,
     "metadata": {},
     "output_type": "execute_result"
    }
   ],
   "source": [
    "df.isnull().sum()"
   ]
  },
  {
   "cell_type": "code",
   "execution_count": 11,
   "id": "9c49cf2e",
   "metadata": {},
   "outputs": [],
   "source": [
    "from sklearn.model_selection import train_test_split"
   ]
  },
  {
   "cell_type": "code",
   "execution_count": 12,
   "id": "fb8980ae",
   "metadata": {},
   "outputs": [],
   "source": [
    "df_full_train, df_test = train_test_split(df, test_size=0.2, random_state=1)"
   ]
  },
  {
   "cell_type": "code",
   "execution_count": 13,
   "id": "4c5f3c1c",
   "metadata": {},
   "outputs": [
    {
     "data": {
      "text/plain": [
       "(1070, 268)"
      ]
     },
     "execution_count": 13,
     "metadata": {},
     "output_type": "execute_result"
    }
   ],
   "source": [
    "len(df_full_train), len(df_test)"
   ]
  },
  {
   "cell_type": "code",
   "execution_count": 14,
   "id": "d82954a6",
   "metadata": {},
   "outputs": [],
   "source": [
    "df_train, df_val = train_test_split(df_full_train, test_size=0.25, random_state=1)"
   ]
  },
  {
   "cell_type": "code",
   "execution_count": 15,
   "id": "d193ab49",
   "metadata": {},
   "outputs": [
    {
     "data": {
      "text/plain": [
       "(802, 268, 268)"
      ]
     },
     "execution_count": 15,
     "metadata": {},
     "output_type": "execute_result"
    }
   ],
   "source": [
    "len(df_train), len(df_val), len(df_test)"
   ]
  },
  {
   "cell_type": "code",
   "execution_count": 16,
   "id": "523cd7f5",
   "metadata": {},
   "outputs": [
    {
     "data": {
      "text/html": [
       "<div>\n",
       "<style scoped>\n",
       "    .dataframe tbody tr th:only-of-type {\n",
       "        vertical-align: middle;\n",
       "    }\n",
       "\n",
       "    .dataframe tbody tr th {\n",
       "        vertical-align: top;\n",
       "    }\n",
       "\n",
       "    .dataframe thead th {\n",
       "        text-align: right;\n",
       "    }\n",
       "</style>\n",
       "<table border=\"1\" class=\"dataframe\">\n",
       "  <thead>\n",
       "    <tr style=\"text-align: right;\">\n",
       "      <th></th>\n",
       "      <th>age</th>\n",
       "      <th>sex</th>\n",
       "      <th>bmi</th>\n",
       "      <th>children</th>\n",
       "      <th>smoker</th>\n",
       "      <th>region</th>\n",
       "      <th>charges</th>\n",
       "    </tr>\n",
       "  </thead>\n",
       "  <tbody>\n",
       "    <tr>\n",
       "      <th>208</th>\n",
       "      <td>63</td>\n",
       "      <td>female</td>\n",
       "      <td>1</td>\n",
       "      <td>0</td>\n",
       "      <td>0</td>\n",
       "      <td>southwest</td>\n",
       "      <td>9.538345</td>\n",
       "    </tr>\n",
       "    <tr>\n",
       "      <th>966</th>\n",
       "      <td>51</td>\n",
       "      <td>male</td>\n",
       "      <td>0</td>\n",
       "      <td>2</td>\n",
       "      <td>1</td>\n",
       "      <td>northwest</td>\n",
       "      <td>10.084491</td>\n",
       "    </tr>\n",
       "    <tr>\n",
       "      <th>278</th>\n",
       "      <td>59</td>\n",
       "      <td>male</td>\n",
       "      <td>1</td>\n",
       "      <td>2</td>\n",
       "      <td>0</td>\n",
       "      <td>southeast</td>\n",
       "      <td>9.467289</td>\n",
       "    </tr>\n",
       "    <tr>\n",
       "      <th>829</th>\n",
       "      <td>39</td>\n",
       "      <td>male</td>\n",
       "      <td>0</td>\n",
       "      <td>1</td>\n",
       "      <td>0</td>\n",
       "      <td>northwest</td>\n",
       "      <td>8.719071</td>\n",
       "    </tr>\n",
       "    <tr>\n",
       "      <th>74</th>\n",
       "      <td>44</td>\n",
       "      <td>male</td>\n",
       "      <td>0</td>\n",
       "      <td>2</td>\n",
       "      <td>0</td>\n",
       "      <td>southwest</td>\n",
       "      <td>8.952586</td>\n",
       "    </tr>\n",
       "    <tr>\n",
       "      <th>...</th>\n",
       "      <td>...</td>\n",
       "      <td>...</td>\n",
       "      <td>...</td>\n",
       "      <td>...</td>\n",
       "      <td>...</td>\n",
       "      <td>...</td>\n",
       "      <td>...</td>\n",
       "    </tr>\n",
       "    <tr>\n",
       "      <th>174</th>\n",
       "      <td>24</td>\n",
       "      <td>female</td>\n",
       "      <td>1</td>\n",
       "      <td>0</td>\n",
       "      <td>0</td>\n",
       "      <td>northwest</td>\n",
       "      <td>7.957331</td>\n",
       "    </tr>\n",
       "    <tr>\n",
       "      <th>136</th>\n",
       "      <td>19</td>\n",
       "      <td>male</td>\n",
       "      <td>1</td>\n",
       "      <td>0</td>\n",
       "      <td>0</td>\n",
       "      <td>southwest</td>\n",
       "      <td>7.140803</td>\n",
       "    </tr>\n",
       "    <tr>\n",
       "      <th>222</th>\n",
       "      <td>32</td>\n",
       "      <td>male</td>\n",
       "      <td>1</td>\n",
       "      <td>3</td>\n",
       "      <td>0</td>\n",
       "      <td>southwest</td>\n",
       "      <td>8.566845</td>\n",
       "    </tr>\n",
       "    <tr>\n",
       "      <th>1303</th>\n",
       "      <td>43</td>\n",
       "      <td>male</td>\n",
       "      <td>0</td>\n",
       "      <td>0</td>\n",
       "      <td>1</td>\n",
       "      <td>southwest</td>\n",
       "      <td>10.540877</td>\n",
       "    </tr>\n",
       "    <tr>\n",
       "      <th>129</th>\n",
       "      <td>38</td>\n",
       "      <td>male</td>\n",
       "      <td>1</td>\n",
       "      <td>2</td>\n",
       "      <td>0</td>\n",
       "      <td>southwest</td>\n",
       "      <td>8.713320</td>\n",
       "    </tr>\n",
       "  </tbody>\n",
       "</table>\n",
       "<p>802 rows × 7 columns</p>\n",
       "</div>"
      ],
      "text/plain": [
       "      age     sex  bmi  children  smoker     region    charges\n",
       "208    63  female    1         0       0  southwest   9.538345\n",
       "966    51    male    0         2       1  northwest  10.084491\n",
       "278    59    male    1         2       0  southeast   9.467289\n",
       "829    39    male    0         1       0  northwest   8.719071\n",
       "74     44    male    0         2       0  southwest   8.952586\n",
       "...   ...     ...  ...       ...     ...        ...        ...\n",
       "174    24  female    1         0       0  northwest   7.957331\n",
       "136    19    male    1         0       0  southwest   7.140803\n",
       "222    32    male    1         3       0  southwest   8.566845\n",
       "1303   43    male    0         0       1  southwest  10.540877\n",
       "129    38    male    1         2       0  southwest   8.713320\n",
       "\n",
       "[802 rows x 7 columns]"
      ]
     },
     "execution_count": 16,
     "metadata": {},
     "output_type": "execute_result"
    }
   ],
   "source": [
    "df_train"
   ]
  },
  {
   "cell_type": "code",
   "execution_count": 17,
   "id": "18f030ac",
   "metadata": {},
   "outputs": [],
   "source": [
    "df_train = df_train.reset_index(drop=True)\n",
    "df_val = df_val.reset_index(drop=True)\n",
    "df_test = df_test.reset_index(drop=True)"
   ]
  },
  {
   "cell_type": "code",
   "execution_count": 18,
   "id": "c298ba1e",
   "metadata": {},
   "outputs": [
    {
     "data": {
      "text/html": [
       "<div>\n",
       "<style scoped>\n",
       "    .dataframe tbody tr th:only-of-type {\n",
       "        vertical-align: middle;\n",
       "    }\n",
       "\n",
       "    .dataframe tbody tr th {\n",
       "        vertical-align: top;\n",
       "    }\n",
       "\n",
       "    .dataframe thead th {\n",
       "        text-align: right;\n",
       "    }\n",
       "</style>\n",
       "<table border=\"1\" class=\"dataframe\">\n",
       "  <thead>\n",
       "    <tr style=\"text-align: right;\">\n",
       "      <th></th>\n",
       "      <th>age</th>\n",
       "      <th>sex</th>\n",
       "      <th>bmi</th>\n",
       "      <th>children</th>\n",
       "      <th>smoker</th>\n",
       "      <th>region</th>\n",
       "      <th>charges</th>\n",
       "    </tr>\n",
       "  </thead>\n",
       "  <tbody>\n",
       "    <tr>\n",
       "      <th>0</th>\n",
       "      <td>63</td>\n",
       "      <td>female</td>\n",
       "      <td>1</td>\n",
       "      <td>0</td>\n",
       "      <td>0</td>\n",
       "      <td>southwest</td>\n",
       "      <td>9.538345</td>\n",
       "    </tr>\n",
       "    <tr>\n",
       "      <th>1</th>\n",
       "      <td>51</td>\n",
       "      <td>male</td>\n",
       "      <td>0</td>\n",
       "      <td>2</td>\n",
       "      <td>1</td>\n",
       "      <td>northwest</td>\n",
       "      <td>10.084491</td>\n",
       "    </tr>\n",
       "    <tr>\n",
       "      <th>2</th>\n",
       "      <td>59</td>\n",
       "      <td>male</td>\n",
       "      <td>1</td>\n",
       "      <td>2</td>\n",
       "      <td>0</td>\n",
       "      <td>southeast</td>\n",
       "      <td>9.467289</td>\n",
       "    </tr>\n",
       "    <tr>\n",
       "      <th>3</th>\n",
       "      <td>39</td>\n",
       "      <td>male</td>\n",
       "      <td>0</td>\n",
       "      <td>1</td>\n",
       "      <td>0</td>\n",
       "      <td>northwest</td>\n",
       "      <td>8.719071</td>\n",
       "    </tr>\n",
       "    <tr>\n",
       "      <th>4</th>\n",
       "      <td>44</td>\n",
       "      <td>male</td>\n",
       "      <td>0</td>\n",
       "      <td>2</td>\n",
       "      <td>0</td>\n",
       "      <td>southwest</td>\n",
       "      <td>8.952586</td>\n",
       "    </tr>\n",
       "  </tbody>\n",
       "</table>\n",
       "</div>"
      ],
      "text/plain": [
       "   age     sex  bmi  children  smoker     region    charges\n",
       "0   63  female    1         0       0  southwest   9.538345\n",
       "1   51    male    0         2       1  northwest  10.084491\n",
       "2   59    male    1         2       0  southeast   9.467289\n",
       "3   39    male    0         1       0  northwest   8.719071\n",
       "4   44    male    0         2       0  southwest   8.952586"
      ]
     },
     "execution_count": 18,
     "metadata": {},
     "output_type": "execute_result"
    }
   ],
   "source": [
    "df_train.head()"
   ]
  },
  {
   "cell_type": "code",
   "execution_count": 19,
   "id": "6161ec58",
   "metadata": {},
   "outputs": [],
   "source": [
    "y_train = df_train.charges.values\n",
    "y_val = df_val.charges.values\n",
    "y_test = df_test.charges.values"
   ]
  },
  {
   "cell_type": "code",
   "execution_count": 20,
   "id": "b9ac4502",
   "metadata": {},
   "outputs": [],
   "source": [
    "del df_train['charges']\n",
    "del df_val['charges']\n",
    "del df_test['charges']"
   ]
  },
  {
   "cell_type": "code",
   "execution_count": 21,
   "id": "c590a5b5",
   "metadata": {},
   "outputs": [],
   "source": [
    "numerical.remove('charges')"
   ]
  },
  {
   "cell_type": "code",
   "execution_count": 22,
   "id": "21e982b2",
   "metadata": {},
   "outputs": [
    {
     "data": {
      "text/plain": [
       "age         0.523401\n",
       "bmi         0.109672\n",
       "children    0.126453\n",
       "smoker      0.670232\n",
       "dtype: float64"
      ]
     },
     "execution_count": 22,
     "metadata": {},
     "output_type": "execute_result"
    }
   ],
   "source": [
    "df_full_train[numerical].corrwith(df_full_train.charges)"
   ]
  },
  {
   "cell_type": "code",
   "execution_count": 23,
   "id": "132b1cef",
   "metadata": {},
   "outputs": [
    {
     "data": {
      "text/plain": [
       "age         0.303295\n",
       "bmi         0.184314\n",
       "children    0.030622\n",
       "smoker      0.787983\n",
       "dtype: float64"
      ]
     },
     "execution_count": 23,
     "metadata": {},
     "output_type": "execute_result"
    }
   ],
   "source": [
    "df_full_train[numerical].corrwith(np.expm1(df_full_train.charges))"
   ]
  },
  {
   "cell_type": "code",
   "execution_count": 24,
   "id": "e14338d7",
   "metadata": {},
   "outputs": [],
   "source": [
    "from sklearn.feature_extraction import DictVectorizer"
   ]
  },
  {
   "cell_type": "code",
   "execution_count": 28,
   "id": "d964a810",
   "metadata": {},
   "outputs": [],
   "source": [
    "df.age = df.age.astype(str)"
   ]
  },
  {
   "cell_type": "code",
   "execution_count": 29,
   "id": "ebb78eff",
   "metadata": {},
   "outputs": [],
   "source": [
    "categorical = list(df.dtypes[df.dtypes == object].index)"
   ]
  },
  {
   "cell_type": "code",
   "execution_count": 30,
   "id": "ddb0642b",
   "metadata": {},
   "outputs": [
    {
     "data": {
      "text/plain": [
       "age       47\n",
       "sex        2\n",
       "region     4\n",
       "dtype: int64"
      ]
     },
     "execution_count": 30,
     "metadata": {},
     "output_type": "execute_result"
    }
   ],
   "source": [
    "df[categorical].nunique()"
   ]
  },
  {
   "cell_type": "code",
   "execution_count": 32,
   "id": "b0dcce99",
   "metadata": {},
   "outputs": [
    {
     "data": {
      "text/plain": [
       "{'sex': {0: 'female',\n",
       "  1: 'male',\n",
       "  2: 'male',\n",
       "  3: 'male',\n",
       "  4: 'male',\n",
       "  5: 'female',\n",
       "  6: 'female',\n",
       "  7: 'male'},\n",
       " 'region': {0: 'southwest',\n",
       "  1: 'northwest',\n",
       "  2: 'southeast',\n",
       "  3: 'northwest',\n",
       "  4: 'southwest',\n",
       "  5: 'northwest',\n",
       "  6: 'northwest',\n",
       "  7: 'northeast'},\n",
       " 'age': {0: 63, 1: 51, 2: 59, 3: 39, 4: 44, 5: 41, 6: 34, 7: 18}}"
      ]
     },
     "execution_count": 32,
     "metadata": {},
     "output_type": "execute_result"
    }
   ],
   "source": [
    "df_train[['sex','region','age']].iloc[:8].to_dict()"
   ]
  },
  {
   "cell_type": "code",
   "execution_count": 41,
   "id": "33a04be1",
   "metadata": {},
   "outputs": [],
   "source": [
    "dicts = df_train[['sex','region','age']].iloc[:8].to_dict(orient='records')"
   ]
  },
  {
   "cell_type": "code",
   "execution_count": 42,
   "id": "469d88f4",
   "metadata": {},
   "outputs": [],
   "source": [
    "dv = DictVectorizer()"
   ]
  },
  {
   "cell_type": "code",
   "execution_count": 43,
   "id": "68158fa8",
   "metadata": {},
   "outputs": [
    {
     "data": {
      "text/plain": [
       "DictVectorizer()"
      ]
     },
     "execution_count": 43,
     "metadata": {},
     "output_type": "execute_result"
    }
   ],
   "source": [
    "dv.fit(dicts)"
   ]
  },
  {
   "cell_type": "code",
   "execution_count": 44,
   "id": "4820e5c5",
   "metadata": {},
   "outputs": [
    {
     "data": {
      "text/plain": [
       "array([[63.,  0.,  0.,  0.,  1.,  1.,  0.],\n",
       "       [51.,  0.,  1.,  0.,  0.,  0.,  1.],\n",
       "       [59.,  0.,  0.,  1.,  0.,  0.,  1.],\n",
       "       [39.,  0.,  1.,  0.,  0.,  0.,  1.],\n",
       "       [44.,  0.,  0.,  0.,  1.,  0.,  1.],\n",
       "       [41.,  0.,  1.,  0.,  0.,  1.,  0.],\n",
       "       [34.,  0.,  1.,  0.,  0.,  1.,  0.],\n",
       "       [18.,  1.,  0.,  0.,  0.,  0.,  1.],\n",
       "       [34.,  1.,  0.,  0.,  0.,  0.,  1.],\n",
       "       [29.,  0.,  0.,  0.,  1.,  0.,  1.],\n",
       "       [41.,  0.,  0.,  0.,  1.,  0.,  1.],\n",
       "       [18.,  0.,  0.,  1.,  0.,  1.,  0.],\n",
       "       [25.,  0.,  0.,  0.,  1.,  0.,  1.],\n",
       "       [19.,  0.,  0.,  0.,  1.,  0.,  1.],\n",
       "       [55.,  0.,  0.,  0.,  1.,  0.,  1.],\n",
       "       [18.,  1.,  0.,  0.,  0.,  1.,  0.],\n",
       "       [31.,  1.,  0.,  0.,  0.,  0.,  1.],\n",
       "       [52.,  0.,  0.,  0.,  1.,  1.,  0.],\n",
       "       [55.,  0.,  0.,  1.,  0.,  0.,  1.],\n",
       "       [18.,  0.,  0.,  1.,  0.,  1.,  0.],\n",
       "       [44.,  0.,  0.,  1.,  0.,  1.,  0.],\n",
       "       [52.,  0.,  1.,  0.,  0.,  0.,  1.],\n",
       "       [58.,  0.,  0.,  0.,  1.,  1.,  0.],\n",
       "       [18.,  0.,  0.,  1.,  0.,  0.,  1.],\n",
       "       [54.,  0.,  1.,  0.,  0.,  1.,  0.],\n",
       "       [34.,  0.,  1.,  0.,  0.,  0.,  1.],\n",
       "       [46.,  0.,  1.,  0.,  0.,  0.,  1.],\n",
       "       [59.,  0.,  1.,  0.,  0.,  1.,  0.],\n",
       "       [30.,  0.,  1.,  0.,  0.,  1.,  0.],\n",
       "       [22.,  1.,  0.,  0.,  0.,  0.,  1.],\n",
       "       [49.,  0.,  1.,  0.,  0.,  0.,  1.],\n",
       "       [19.,  0.,  1.,  0.,  0.,  1.,  0.],\n",
       "       [31.,  0.,  0.,  0.,  1.,  0.,  1.],\n",
       "       [18.,  0.,  0.,  1.,  0.,  0.,  1.],\n",
       "       [33.,  1.,  0.,  0.,  0.,  0.,  1.],\n",
       "       [19.,  0.,  0.,  0.,  1.,  0.,  1.],\n",
       "       [33.,  0.,  0.,  1.,  0.,  1.,  0.],\n",
       "       [40.,  0.,  1.,  0.,  0.,  1.,  0.],\n",
       "       [31.,  0.,  0.,  1.,  0.,  1.,  0.],\n",
       "       [18.,  1.,  0.,  0.,  0.,  0.,  1.],\n",
       "       [21.,  0.,  1.,  0.,  0.,  0.,  1.],\n",
       "       [18.,  1.,  0.,  0.,  0.,  1.,  0.],\n",
       "       [62.,  0.,  0.,  1.,  0.,  0.,  1.],\n",
       "       [62.,  1.,  0.,  0.,  0.,  0.,  1.],\n",
       "       [63.,  0.,  0.,  0.,  1.,  0.,  1.],\n",
       "       [57.,  1.,  0.,  0.,  0.,  0.,  1.],\n",
       "       [35.,  0.,  0.,  0.,  1.,  0.,  1.],\n",
       "       [52.,  0.,  1.,  0.,  0.,  0.,  1.],\n",
       "       [44.,  1.,  0.,  0.,  0.,  0.,  1.],\n",
       "       [57.,  1.,  0.,  0.,  0.,  1.,  0.],\n",
       "       [45.,  0.,  0.,  0.,  1.,  1.,  0.],\n",
       "       [55.,  0.,  1.,  0.,  0.,  1.,  0.],\n",
       "       [57.,  0.,  0.,  0.,  1.,  1.,  0.],\n",
       "       [40.,  0.,  1.,  0.,  0.,  1.,  0.],\n",
       "       [19.,  0.,  0.,  1.,  0.,  0.,  1.],\n",
       "       [29.,  1.,  0.,  0.,  0.,  0.,  1.],\n",
       "       [46.,  0.,  0.,  0.,  1.,  1.,  0.],\n",
       "       [49.,  0.,  0.,  0.,  1.,  0.,  1.],\n",
       "       [45.,  0.,  1.,  0.,  0.,  0.,  1.],\n",
       "       [49.,  0.,  1.,  0.,  0.,  0.,  1.],\n",
       "       [30.,  0.,  0.,  0.,  1.,  1.,  0.],\n",
       "       [56.,  0.,  0.,  0.,  1.,  0.,  1.],\n",
       "       [46.,  1.,  0.,  0.,  0.,  1.,  0.],\n",
       "       [36.,  1.,  0.,  0.,  0.,  0.,  1.],\n",
       "       [38.,  0.,  0.,  1.,  0.,  0.,  1.],\n",
       "       [18.,  0.,  0.,  1.,  0.,  1.,  0.],\n",
       "       [64.,  0.,  1.,  0.,  0.,  0.,  1.],\n",
       "       [21.,  0.,  1.,  0.,  0.,  1.,  0.],\n",
       "       [41.,  0.,  0.,  1.,  0.,  0.,  1.],\n",
       "       [60.,  0.,  0.,  0.,  1.,  1.,  0.],\n",
       "       [48.,  0.,  0.,  0.,  1.,  0.,  1.],\n",
       "       [21.,  1.,  0.,  0.,  0.,  1.,  0.],\n",
       "       [49.,  1.,  0.,  0.,  0.,  0.,  1.],\n",
       "       [40.,  0.,  0.,  1.,  0.,  1.,  0.],\n",
       "       [26.,  0.,  1.,  0.,  0.,  1.,  0.],\n",
       "       [63.,  0.,  1.,  0.,  0.,  0.,  1.],\n",
       "       [37.,  0.,  0.,  0.,  1.,  0.,  1.],\n",
       "       [25.,  0.,  0.,  1.,  0.,  1.,  0.],\n",
       "       [41.,  0.,  0.,  1.,  0.,  0.,  1.],\n",
       "       [19.,  0.,  0.,  0.,  1.,  0.,  1.],\n",
       "       [64.,  1.,  0.,  0.,  0.,  0.,  1.],\n",
       "       [20.,  0.,  0.,  1.,  0.,  1.,  0.],\n",
       "       [28.,  0.,  0.,  1.,  0.,  1.,  0.],\n",
       "       [37.,  0.,  0.,  1.,  0.,  0.,  1.],\n",
       "       [19.,  0.,  0.,  0.,  1.,  0.,  1.],\n",
       "       [62.,  0.,  0.,  1.,  0.,  1.,  0.],\n",
       "       [31.,  0.,  1.,  0.,  0.,  0.,  1.],\n",
       "       [48.,  0.,  0.,  0.,  1.,  1.,  0.],\n",
       "       [23.,  0.,  1.,  0.,  0.,  1.,  0.],\n",
       "       [21.,  1.,  0.,  0.,  0.,  0.,  1.],\n",
       "       [18.,  0.,  0.,  1.,  0.,  1.,  0.],\n",
       "       [50.,  1.,  0.,  0.,  0.,  1.,  0.],\n",
       "       [63.,  0.,  1.,  0.,  0.,  1.,  0.],\n",
       "       [18.,  1.,  0.,  0.,  0.,  0.,  1.],\n",
       "       [24.,  0.,  1.,  0.,  0.,  1.,  0.],\n",
       "       [36.,  0.,  1.,  0.,  0.,  0.,  1.],\n",
       "       [47.,  0.,  0.,  1.,  0.,  1.,  0.],\n",
       "       [37.,  0.,  1.,  0.,  0.,  0.,  1.],\n",
       "       [25.,  0.,  0.,  1.,  0.,  0.,  1.],\n",
       "       [51.,  0.,  0.,  1.,  0.,  1.,  0.]])"
      ]
     },
     "execution_count": 44,
     "metadata": {},
     "output_type": "execute_result"
    }
   ],
   "source": [
    "dicts = df_train[['sex','region','age']].iloc[:100].to_dict(orient='records')\n",
    "dv = DictVectorizer(sparse=False)\n",
    "dv.fit(dicts)\n",
    "dv.transform(dicts)"
   ]
  },
  {
   "cell_type": "code",
   "execution_count": 45,
   "id": "5cae9f1d",
   "metadata": {},
   "outputs": [],
   "source": [
    "from sklearn.linear_model import LinearRegression\n",
    "from sklearn.feature_extraction import DictVectorizer\n",
    "from sklearn.metrics import mean_squared_error as mse\n",
    "def test(df_train, y_train, df_val, y_val):\n",
    "    dv = DictVectorizer(sparse=False)\n",
    "    X_train = dv.fit_transform(df_train.to_dict(orient='records'))\n",
    "    X_val = dv.transform(df_val.to_dict(orient='records'))\n",
    "    model = LinearRegression()\n",
    "    model.fit(X_train, y_train)\n",
    "    y_pred = model.predict(X_val)\n",
    "    print(mse(y_pred, y_val, squared=False))\n",
    "    print(mse(np.expm1(y_pred), np.expm1(y_val), squared=False))\n",
    "    sns.histplot(np.expm1(y_pred), color='red', bins = 50, alpha=0.5)\n",
    "    sns.histplot(np.expm1(y_val), color = 'blue', bins = 50, alpha = 0.5)"
   ]
  },
  {
   "cell_type": "code",
   "execution_count": 46,
   "id": "1cf6118d",
   "metadata": {},
   "outputs": [
    {
     "name": "stderr",
     "output_type": "stream",
     "text": [
      "<ipython-input-45-cd9c7a59baf7>:6: UserWarning: DataFrame columns are not unique, some columns will be omitted.\n",
      "  X_train = dv.fit_transform(df_train.to_dict(orient='records'))\n",
      "<ipython-input-45-cd9c7a59baf7>:7: UserWarning: DataFrame columns are not unique, some columns will be omitted.\n",
      "  X_val = dv.transform(df_val.to_dict(orient='records'))\n"
     ]
    },
    {
     "name": "stdout",
     "output_type": "stream",
     "text": [
      "0.4517353869573444\n",
      "7598.859879128797\n"
     ]
    },
    {
     "data": {
      "image/png": "[encoded data removed]",
      "text/plain": [
       "<Figure size 432x288 with 1 Axes>"
      ]
     },
     "metadata": {
      "needs_background": "light"
     },
     "output_type": "display_data"
    }
   ],
   "source": [
    "test(df_train[numerical+categorical],y_train,df_val[numerical+categorical],y_val)"
   ]
  },
  {
   "cell_type": "code",
   "execution_count": null,
   "id": "c4da3306",
   "metadata": {},
   "outputs": [],
   "source": []
  }
 ],
 "metadata": {
  "kernelspec": {
   "display_name": "Python 3",
   "language": "python",
   "name": "python3"
  },
  "language_info": {
   "codemirror_mode": {
    "name": "ipython",
    "version": 3
   },
   "file_extension": ".py",
   "mimetype": "text/x-python",
   "name": "python",
   "nbconvert_exporter": "python",
   "pygments_lexer": "ipython3",
   "version": "3.8.8"
  }
 },
 "nbformat": 4,
 "nbformat_minor": 5
}
