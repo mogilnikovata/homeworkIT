{
 "cells": [
  {
   "cell_type": "code",
   "execution_count": 70,
   "id": "d1962b49",
   "metadata": {},
   "outputs": [],
   "source": [
    "import math"
   ]
  },
  {
   "cell_type": "code",
   "execution_count": 87,
   "id": "848f762e",
   "metadata": {},
   "outputs": [],
   "source": [
    "def evaluate(a, x):\n",
    "    polynom=0    \n",
    "    for i in range (len(a)):\n",
    "        polynom+=a[i]*pow(x,i)\n",
    "    return(polynom)"
   ]
  },
  {
   "cell_type": "code",
   "execution_count": 88,
   "id": "fed7f5dc",
   "metadata": {},
   "outputs": [],
   "source": [
    "def exp(x,n):\n",
    "    a=[]\n",
    "    k=1\n",
    "    for i in range (1,n+1):\n",
    "        k=k*i\n",
    "        a.append(1/k)\n",
    "    return(evaluate(a, x))  "
   ]
  },
  {
   "cell_type": "code",
   "execution_count": 89,
   "id": "4a791162",
   "metadata": {},
   "outputs": [
    {
     "name": "stdout",
     "output_type": "stream",
     "text": [
      "1.7182818284590455\n"
     ]
    }
   ],
   "source": [
    "print(exp(1,100))"
   ]
  },
  {
   "cell_type": "code",
   "execution_count": 90,
   "id": "baf8d17a",
   "metadata": {},
   "outputs": [
    {
     "data": {
      "text/plain": [
       "2.718281828459045"
      ]
     },
     "execution_count": 90,
     "metadata": {},
     "output_type": "execute_result"
    }
   ],
   "source": [
    "x=1\n",
    "math.exp(x)"
   ]
  },
  {
   "cell_type": "code",
   "execution_count": null,
   "id": "dcb0234e",
   "metadata": {},
   "outputs": [],
   "source": []
  }
 ],
 "metadata": {
  "kernelspec": {
   "display_name": "Python 3",
   "language": "python",
   "name": "python3"
  },
  "language_info": {
   "codemirror_mode": {
    "name": "ipython",
    "version": 3
   },
   "file_extension": ".py",
   "mimetype": "text/x-python",
   "name": "python",
   "nbconvert_exporter": "python",
   "pygments_lexer": "ipython3",
   "version": "3.8.8"
  }
 },
 "nbformat": 4,
 "nbformat_minor": 5
}
